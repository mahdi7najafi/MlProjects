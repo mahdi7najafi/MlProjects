{
 "cells": [
  {
   "cell_type": "code",
   "execution_count": 1,
   "metadata": {},
   "outputs": [],
   "source": [
    "import numpy as np\n",
    "import pandas as pd\n",
    "import tensorflow as tf\n",
    "from sklearn import preprocessing"
   ]
  },
  {
   "cell_type": "markdown",
   "metadata": {},
   "source": [
    "### Extract Data from CSV "
   ]
  },
  {
   "cell_type": "code",
   "execution_count": 21,
   "metadata": {},
   "outputs": [],
   "source": [
    "raw_data_csv = np.loadtxt('Audiobooks.csv', delimiter=',')\n",
    "unscaled_input_data = raw_data_csv[:,1:-1]\n",
    "targets_all = raw_data_csv[:,-1]"
   ]
  },
  {
   "cell_type": "code",
   "execution_count": 22,
   "metadata": {},
   "outputs": [
    {
     "name": "stdout",
     "output_type": "stream",
     "text": [
      "(14084, 10)\n",
      "(14084,)\n"
     ]
    }
   ],
   "source": [
    "print(unscaled_input_data.shape)\n",
    "print(targets_all.shape)"
   ]
  },
  {
   "cell_type": "markdown",
   "metadata": {},
   "source": [
    "### Balance the Dataset"
   ]
  },
  {
   "cell_type": "code",
   "execution_count": 23,
   "metadata": {},
   "outputs": [],
   "source": [
    "num_one_targets = int(np.sum(targets_all))\n",
    "zero_target_counter = 0\n",
    "indices_to_remove = []\n",
    "\n",
    "for i in range(targets_all.shape[0]):\n",
    "    if targets_all[i] == 0:\n",
    "        zero_target_counter += 1\n",
    "        if zero_target_counter > num_one_targets:\n",
    "            indices_to_remove.append(i)\n",
    "\n",
    "unscaled_input_equal_priors = np.delete(unscaled_input_data, indices_to_remove, axis=0)\n",
    "target_equal_priors = np.delete(targets_all, indices_to_remove, axis=0)"
   ]
  },
  {
   "cell_type": "code",
   "execution_count": 24,
   "metadata": {},
   "outputs": [
    {
     "name": "stdout",
     "output_type": "stream",
     "text": [
      "(4474, 10)\n",
      "(4474,)\n"
     ]
    }
   ],
   "source": [
    "print(unscaled_input_equal_priors.shape)\n",
    "print(target_equal_priors.shape)"
   ]
  },
  {
   "cell_type": "markdown",
   "metadata": {},
   "source": [
    "### Standardize the Inputs"
   ]
  },
  {
   "cell_type": "code",
   "execution_count": 25,
   "metadata": {},
   "outputs": [],
   "source": [
    "scaled_inputs = preprocessing.scale(unscaled_input_equal_priors)"
   ]
  },
  {
   "cell_type": "markdown",
   "metadata": {},
   "source": [
    "### Shuffle the Data"
   ]
  },
  {
   "cell_type": "code",
   "execution_count": 26,
   "metadata": {},
   "outputs": [],
   "source": [
    "shuffled_indices = np.arange(scaled_inputs.shape[0])\n",
    "np.random.shuffle(shuffled_indices)\n",
    "\n",
    "shuffled_inputs = scaled_inputs[shuffled_indices]\n",
    "shuffled_targets = target_equal_priors[shuffled_indices]"
   ]
  },
  {
   "cell_type": "markdown",
   "metadata": {},
   "source": [
    "### Split dataset into Train, Validation, and Test"
   ]
  },
  {
   "cell_type": "code",
   "execution_count": 27,
   "metadata": {},
   "outputs": [
    {
     "name": "stdout",
     "output_type": "stream",
     "text": [
      "1795.0 3579 0.5015367421067337\n",
      "219.0 447 0.4899328859060403\n",
      "223.0 448 0.49776785714285715\n"
     ]
    }
   ],
   "source": [
    "samples_count = shuffled_inputs.shape[0]\n",
    "\n",
    "train_sample_count = int(0.8*samples_count)\n",
    "validation_sample_count = int(0.1*samples_count)\n",
    "test_sample_count = samples_count - train_sample_count - validation_sample_count\n",
    "\n",
    "train_inputs = shuffled_inputs[:train_sample_count]\n",
    "train_targets = shuffled_targets[:train_sample_count]\n",
    "\n",
    "validation_inputs = shuffled_inputs[train_sample_count:train_sample_count+validation_sample_count]\n",
    "validation_targets = shuffled_targets[train_sample_count:train_sample_count+validation_sample_count]\n",
    "\n",
    "test_inputs = shuffled_inputs[train_sample_count+validation_sample_count:]\n",
    "test_targets = shuffled_targets[train_sample_count+validation_sample_count:]\n",
    "\n",
    "print(np.sum(train_targets), train_sample_count, np.sum(train_targets)/train_sample_count)\n",
    "print(np.sum(validation_targets), validation_sample_count, np.sum(validation_targets)/validation_sample_count)\n",
    "print(np.sum(test_targets), test_sample_count, np.sum(test_targets)/test_sample_count)"
   ]
  },
  {
   "cell_type": "markdown",
   "metadata": {},
   "source": [
    "### Save the Three Datasets in *.npz"
   ]
  },
  {
   "cell_type": "code",
   "execution_count": 28,
   "metadata": {},
   "outputs": [],
   "source": [
    "np.savez('Audio_data_train', inputs=train_inputs, targets= train_targets)\n",
    "np.savez('Audio_data_validation', inputs=validation_inputs, targets= validation_targets)\n",
    "np.savez('Audio_data_test', inputs=test_inputs, targets= test_targets)"
   ]
  },
  {
   "cell_type": "markdown",
   "metadata": {},
   "source": [
    "### Create a Class that will Batch the Data"
   ]
  },
  {
   "cell_type": "code",
   "execution_count": 29,
   "metadata": {},
   "outputs": [],
   "source": [
    "class Data_Reader():\n",
    "    \n",
    "    def __init__(self, dataset, batch_size = None):\n",
    "        npz = np.load('Audio_data_{0}.npz'.format(dataset))\n",
    "        self.inputs , self.targets = npz['inputs'].astype(np.float), npz['targets'].astype(np.int)\n",
    "        \n",
    "        if batch_size is None:\n",
    "            self.batch_size = self.inputs.shape[0]\n",
    "        else:\n",
    "            self.batch_size = batch_size\n",
    "        self.curr_batch = 0\n",
    "        self.batch_count = self.inputs.shape[0] // self.batch_size\n",
    "        \n",
    "    def __next__(self):\n",
    "        if self.curr_batch >= self.batch_count:\n",
    "            self.curr_batch = 0\n",
    "            raise StopIteration()\n",
    "        \n",
    "        batch_slice = slice(self.curr_batch * self.batch_size, (self.curr_batch+1)*self.batch_size)\n",
    "        inputs_batch = self.inputs[batch_slice]\n",
    "        targets_batch = self.targets[batch_slice]\n",
    "        self.curr_batch += 1\n",
    "        \n",
    "        classes_num = 2\n",
    "        targets_one_hot = np.zeros((targets_batch.shape[0], classes_num))\n",
    "        targets_one_hot[range(targets_batch.shape[0]), targets_batch] = 1\n",
    "        \n",
    "        return inputs_batch, targets_one_hot\n",
    "    \n",
    "    def __iter__(self):\n",
    "        return self\n",
    "        \n",
    "        "
   ]
  },
  {
   "cell_type": "markdown",
   "metadata": {},
   "source": [
    "## Create the Machine Learning Model"
   ]
  },
  {
   "cell_type": "code",
   "execution_count": 30,
   "metadata": {},
   "outputs": [
    {
     "name": "stderr",
     "output_type": "stream",
     "text": [
      "C:\\Users\\Mahdi Bayat\\AppData\\Roaming\\Python\\Python37\\site-packages\\tensorflow_core\\python\\client\\session.py:1750: UserWarning: An interactive session is already active. This can cause out-of-memory errors in some cases. You must explicitly call `InteractiveSession.close()` to release resources held by the other session(s).\n",
      "  warnings.warn('An interactive session is already active. This can '\n"
     ]
    },
    {
     "name": "stdout",
     "output_type": "stream",
     "text": [
      "Epoch 1. Training loss: 0.617. Validation loss: 0.517. Validation Accuracy: 67.11%\n",
      "Epoch 2. Training loss: 0.439. Validation loss: 0.398. Validation Accuracy: 79.64%\n",
      "Epoch 3. Training loss: 0.383. Validation loss: 0.372. Validation Accuracy: 80.54%\n",
      "Epoch 4. Training loss: 0.363. Validation loss: 0.367. Validation Accuracy: 81.43%\n",
      "Epoch 5. Training loss: 0.353. Validation loss: 0.362. Validation Accuracy: 82.33%\n",
      "Epoch 6. Training loss: 0.345. Validation loss: 0.357. Validation Accuracy: 82.33%\n",
      "Epoch 7. Training loss: 0.340. Validation loss: 0.351. Validation Accuracy: 82.55%\n",
      "Epoch 8. Training loss: 0.336. Validation loss: 0.346. Validation Accuracy: 83.00%\n",
      "Epoch 9. Training loss: 0.333. Validation loss: 0.344. Validation Accuracy: 82.77%\n",
      "Epoch 10. Training loss: 0.330. Validation loss: 0.342. Validation Accuracy: 81.88%\n",
      "Epoch 11. Training loss: 0.328. Validation loss: 0.342. Validation Accuracy: 81.66%\n",
      "Epoch 12. Training loss: 0.326. Validation loss: 0.342. Validation Accuracy: 82.10%\n",
      "Epoch 13. Training loss: 0.324. Validation loss: 0.340. Validation Accuracy: 82.10%\n",
      "Epoch 14. Training loss: 0.323. Validation loss: 0.339. Validation Accuracy: 82.55%\n",
      "Epoch 15. Training loss: 0.322. Validation loss: 0.339. Validation Accuracy: 82.33%\n",
      "Epoch 16. Training loss: 0.320. Validation loss: 0.339. Validation Accuracy: 82.55%\n",
      "End of Training.\n"
     ]
    }
   ],
   "source": [
    "input_size = 10\n",
    "output_size = 2\n",
    "hidden_layer_size = 50\n",
    "\n",
    "tf.reset_default_graph()\n",
    "\n",
    "inputs = tf.placeholder(tf.float32, [None, input_size])\n",
    "targets = tf.placeholder(tf.int32, [None, output_size])\n",
    "\n",
    "weights_1 = tf.get_variable(\"weights_1\", [input_size,hidden_layer_size])\n",
    "biases_1 = tf.get_variable(\"biases_1\",[hidden_layer_size])\n",
    "\n",
    "outputs_1 = tf.nn.relu(tf.matmul(inputs,weights_1)+biases_1)\n",
    "\n",
    "weights_2 = tf.get_variable(\"weights_2\", [hidden_layer_size,hidden_layer_size])\n",
    "biases_2 = tf.get_variable(\"biases_2\", [hidden_layer_size])\n",
    "\n",
    "outputs_2 = tf.nn.relu(tf.matmul(outputs_1,weights_2)+biases_2)\n",
    "\n",
    "weights_3 = tf.get_variable(\"weights_3\", [hidden_layer_size, hidden_layer_size])\n",
    "biases_3 = tf.get_variable(\"biases_3\", [hidden_layer_size])\n",
    "\n",
    "outputs_3 = tf.nn.relu(tf.matmul(outputs_2, weights_3)+biases_3)\n",
    "\n",
    "weights_4 = tf.get_variable(\"weights_4\", [hidden_layer_size, output_size])\n",
    "biases_4 = tf.get_variable(\"biases_4\", [output_size])\n",
    "\n",
    "\n",
    "outputs = tf.matmul(outputs_3,weights_4)+biases_4\n",
    "\n",
    "loss = tf.nn.softmax_cross_entropy_with_logits(logits=outputs, labels=targets)\n",
    "mean_loss = tf.reduce_mean(loss)\n",
    "\n",
    "optimize = tf.train.AdamOptimizer(learning_rate=0.0012).minimize(mean_loss)\n",
    "\n",
    "out_equals_targets = tf.equal(tf.argmax(outputs,1), tf.arg_max(targets,1))\n",
    "\n",
    "accuracy = tf.reduce_mean(tf.cast(out_equals_targets,tf.float32))\n",
    "\n",
    "sess = tf.InteractiveSession()\n",
    "\n",
    "initializer = tf.global_variables_initializer()\n",
    "sess.run(initializer)\n",
    "\n",
    "batch_size = 100\n",
    "max_epochs = 50\n",
    "\n",
    "prev_validation_loss = 9999999.\n",
    "\n",
    "train_data = Data_Reader('train', batch_size)\n",
    "validation_data = Data_Reader('validation')\n",
    "\n",
    "for epoch_counter in range(max_epochs):\n",
    "    curr_epoch_loss = 0.\n",
    "    \n",
    "    for input_batch , target_batch in train_data:\n",
    "        _, batch_loss = sess.run([optimize, mean_loss],\n",
    "                                feed_dict={inputs:input_batch, targets: target_batch})\n",
    "        curr_epoch_loss += batch_loss\n",
    "    curr_epoch_loss /= train_data.batch_count\n",
    "    \n",
    "    \n",
    "    validation_loss = 0.\n",
    "    validation_accuracy = 0.\n",
    "    \n",
    "    for input_batch , target_batch in validation_data:\n",
    "        validation_loss, validation_accuracy = sess.run([mean_loss, accuracy],\n",
    "                                feed_dict={inputs:input_batch, targets: target_batch})\n",
    "        \n",
    "    print('Epoch '+str(epoch_counter+1)+\n",
    "         '. Training loss: '+ '{0:.3f}'.format(curr_epoch_loss)+\n",
    "         '. Validation loss: '+ '{0:.3f}'.format(validation_loss)+\n",
    "         '. Validation Accuracy: '+ '{0:.2f}'.format(validation_accuracy * 100.)+'%')\n",
    "    \n",
    "    if validation_loss > prev_validation_loss:\n",
    "        break\n",
    "    prev_validation_loss = validation_loss\n",
    "    \n",
    "print('End of Training.')"
   ]
  },
  {
   "cell_type": "markdown",
   "metadata": {},
   "source": [
    "### Test our Model"
   ]
  },
  {
   "cell_type": "code",
   "execution_count": 31,
   "metadata": {},
   "outputs": [
    {
     "name": "stdout",
     "output_type": "stream",
     "text": [
      "Test Accuracy: 81.47%\n"
     ]
    }
   ],
   "source": [
    "test_data = Data_Reader('test')\n",
    "\n",
    "for input_batch , target_batch in test_data:\n",
    "        test_accuracy = sess.run([accuracy],\n",
    "                        feed_dict={inputs:input_batch, targets: target_batch})\n",
    "        \n",
    "test_accuracy_percent = test_accuracy[0] * 100.\n",
    "\n",
    "print('Test Accuracy: ' + '{0:.2f}'.format(test_accuracy_percent)+'%')"
   ]
  }
 ],
 "metadata": {
  "kernelspec": {
   "display_name": "Python 3",
   "language": "python",
   "name": "python3"
  },
  "language_info": {
   "codemirror_mode": {
    "name": "ipython",
    "version": 3
   },
   "file_extension": ".py",
   "mimetype": "text/x-python",
   "name": "python",
   "nbconvert_exporter": "python",
   "pygments_lexer": "ipython3",
   "version": "3.7.4"
  }
 },
 "nbformat": 4,
 "nbformat_minor": 2
}
